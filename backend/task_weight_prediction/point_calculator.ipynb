{
 "cells": [
  {
   "cell_type": "code",
   "execution_count": 40,
   "metadata": {},
   "outputs": [],
   "source": [
    "import pandas as pd\n",
    "import torch\n",
    "import torch.nn as nn\n",
    "import torch.optim as optim\n",
    "from torch.utils.data import Dataset, DataLoader\n",
    "from sklearn.model_selection import train_test_split\n",
    "from transformers import BertTokenizer, BertModel\n",
    "from tqdm import tqdm"
   ]
  },
  {
   "cell_type": "code",
   "execution_count": 41,
   "metadata": {},
   "outputs": [],
   "source": [
    "df = pd.read_csv('tasks_data.csv')"
   ]
  },
  {
   "cell_type": "code",
   "execution_count": 42,
   "metadata": {},
   "outputs": [],
   "source": [
    "# Defining the Neural Network Model\n",
    "class TaskWeightModel(nn.Module):\n",
    "    def __init__(self, bert_model_name, dropout=0.3):\n",
    "        super(TaskWeightModel, self).__init__()\n",
    "        self.bert = BertModel.from_pretrained(bert_model_name)\n",
    "        self.drop = nn.Dropout(p=dropout)\n",
    "        self.out = nn.Linear(self.bert.config.hidden_size, 1)  # Single output neuron for regression\n",
    "        \n",
    "    def forward(self, input_ids, attention_mask):\n",
    "        bert_outputs = self.bert(\n",
    "            input_ids=input_ids,\n",
    "            attention_mask=attention_mask\n",
    "        )\n",
    "        pooled_output = bert_outputs.pooler_output  # CLS token output\n",
    "        output = self.drop(pooled_output)\n",
    "        return self.out(output)"
   ]
  },
  {
   "cell_type": "code",
   "execution_count": 43,
   "metadata": {},
   "outputs": [],
   "source": [
    "class TaskDataset(Dataset):\n",
    "   def __init__(self, tasks, weights, tokenizer, max_len):\n",
    "      self.tasks = tasks\n",
    "      self.weights = weights\n",
    "      self.tokenizer = tokenizer\n",
    "      self.max_len = max_len\n",
    "   \n",
    "   def __len__(self):\n",
    "      return len(self.tasks)\n",
    "   \n",
    "   def __getitem__(self, idx):\n",
    "      task = self.tasks[idx]\n",
    "      weight = self.weights[idx]\n",
    "      # Tokenize the task and get input ids and attention masks\n",
    "      encoding = self.tokenizer.encode_plus(\n",
    "         task,\n",
    "         add_special_tokens=True,\n",
    "         max_length=self.max_len,\n",
    "         padding='max_length',\n",
    "         return_attention_mask=True,\n",
    "         return_tensors='pt',\n",
    "         truncation=True\n",
    "      )\n",
    "      return {\n",
    "         'input_ids': encoding['input_ids'].flatten(),\n",
    "         'attention_mask': encoding['attention_mask'].flatten(),\n",
    "         'weight': torch.tensor(weight, dtype=torch.float)\n",
    "      }\n"
   ]
  },
  {
   "cell_type": "code",
   "execution_count": 44,
   "metadata": {},
   "outputs": [
    {
     "name": "stderr",
     "output_type": "stream",
     "text": [
      "100%|██████████| 250/250 [09:01<00:00,  2.17s/it]\n",
      "100%|██████████| 1/1 [09:01<00:00, 541.86s/it]"
     ]
    },
    {
     "name": "stdout",
     "output_type": "stream",
     "text": [
      "Epoch 1, Train Loss: 80.9292060623169\n"
     ]
    },
    {
     "name": "stderr",
     "output_type": "stream",
     "text": [
      "\n"
     ]
    }
   ],
   "source": [
    "# Data Preparation\n",
    "'''\n",
    "features: task descriptions\n",
    "labels: task weights\n",
    "'''\n",
    "tokenizer = BertTokenizer.from_pretrained('bert-base-uncased')\n",
    "tasks = df['Task'] # List of tasks from dataset\n",
    "weights = df['Weight'] # Corresponding weight scores\n",
    "max_len = 50  # Max length for tokenization\n",
    "\n",
    "# Splitting the data\n",
    "# Splitting the data and resetting index\n",
    "train_tasks, test_tasks, train_weights, test_weights = train_test_split(tasks, weights, test_size=0.2)\n",
    "\n",
    "train_tasks = train_tasks.reset_index(drop=True)\n",
    "test_tasks = test_tasks.reset_index(drop=True)\n",
    "train_weights = train_weights.reset_index(drop=True)\n",
    "test_weights = test_weights.reset_index(drop=True)\n",
    "\n",
    "train_dataset = TaskDataset(train_tasks, train_weights, tokenizer, max_len)\n",
    "test_dataset = TaskDataset(test_tasks, test_weights, tokenizer, max_len)\n",
    "\n",
    "train_loader = DataLoader(train_dataset, batch_size=16, shuffle=True)\n",
    "val_loader = DataLoader(test_dataset, batch_size=16)\n",
    "\n",
    "# Model Initialization\n",
    "model = TaskWeightModel(bert_model_name='bert-base-uncased')\n",
    "optimizer = optim.Adam(model.parameters(), lr=2e-5)\n",
    "loss_fn = nn.MSELoss()\n",
    "\n",
    "# Training Loop\n",
    "def train_model(model, loader, optimizer, loss_fn, epochs=5):\n",
    "   device = torch.device('cpu')\n",
    "   model = model.to(device)\n",
    "   loss_fn = loss_fn.to(device)\n",
    "\n",
    "   for epoch in tqdm(range(epochs)):\n",
    "      model.train()\n",
    "      train_loss = 0\n",
    "      for batch in tqdm(loader):\n",
    "         optimizer.zero_grad()\n",
    "         input_ids = batch['input_ids'].to(device)\n",
    "         attention_mask = batch['attention_mask'].to(device)\n",
    "         weights = batch['weight'].to(device)\n",
    "\n",
    "         outputs = model(input_ids=input_ids, attention_mask=attention_mask)\n",
    "         loss = loss_fn(outputs.squeeze(), weights)\n",
    "         loss.backward()\n",
    "         optimizer.step()\n",
    "         train_loss += loss.item()\n",
    "      \n",
    "      print(f'Epoch {epoch + 1}, Train Loss: {train_loss / len(train_loader)}')\n",
    "\n",
    "# Train the model\n",
    "train_model(model, train_loader, optimizer, loss_fn, epochs=1)"
   ]
  },
  {
   "cell_type": "code",
   "execution_count": 47,
   "metadata": {},
   "outputs": [
    {
     "name": "stdout",
     "output_type": "stream",
     "text": [
      "Mean Squared Error: 58.68651580810547\n",
      "Mean Absolute Error: 6.691348552703857\n",
      "R-Squared: -0.0009916608416402628\n"
     ]
    },
    {
     "data": {
      "text/plain": [
       "(np.float32(58.686516), np.float32(6.6913486), -0.0009916608416402628)"
      ]
     },
     "execution_count": 47,
     "metadata": {},
     "output_type": "execute_result"
    }
   ],
   "source": [
    "from sklearn.metrics import mean_squared_error, mean_absolute_error, r2_score, accuracy_score\n",
    "\n",
    "def evaluate_model(model, val_loader):\n",
    "   model.eval()  # Set the model to evaluation mode\n",
    "   device = torch.device('cpu')  # Assuming no GPU for simplicity\n",
    "   model = model.to(device)\n",
    "   \n",
    "   actuals = []\n",
    "   predictions = []\n",
    "   \n",
    "   with torch.no_grad():  # Disable gradient calculation for evaluation\n",
    "      for batch in val_loader:\n",
    "         input_ids = batch['input_ids'].to(device)\n",
    "         attention_mask = batch['attention_mask'].to(device)\n",
    "         weights = batch['weight'].to(device)\n",
    "         \n",
    "         outputs = model(input_ids=input_ids, attention_mask=attention_mask)\n",
    "         \n",
    "         actuals.extend(weights.cpu().numpy())\n",
    "         predictions.extend(outputs.cpu().numpy().squeeze())\n",
    "   \n",
    "   # Calculate metrics\n",
    "   mse = mean_squared_error(actuals, predictions)\n",
    "   mae = mean_absolute_error(actuals, predictions)\n",
    "   r2 = r2_score(actuals, predictions)\n",
    "   \n",
    "   print(f\"Mean Squared Error: {mse}\")\n",
    "   print(f\"Mean Absolute Error: {mae}\")\n",
    "   print(f\"R-Squared: {r2}\")\n",
    "   \n",
    "   return mse, mae, r2\n",
    "\n",
    "# Call the evaluation function\n",
    "evaluate_model(model, val_loader)\n"
   ]
  },
  {
   "cell_type": "code",
   "execution_count": null,
   "metadata": {},
   "outputs": [],
   "source": []
  }
 ],
 "metadata": {
  "kernelspec": {
   "display_name": "backend-Con8GBnz",
   "language": "python",
   "name": "python3"
  },
  "language_info": {
   "codemirror_mode": {
    "name": "ipython",
    "version": 3
   },
   "file_extension": ".py",
   "mimetype": "text/x-python",
   "name": "python",
   "nbconvert_exporter": "python",
   "pygments_lexer": "ipython3",
   "version": "3.12.1"
  }
 },
 "nbformat": 4,
 "nbformat_minor": 2
}
